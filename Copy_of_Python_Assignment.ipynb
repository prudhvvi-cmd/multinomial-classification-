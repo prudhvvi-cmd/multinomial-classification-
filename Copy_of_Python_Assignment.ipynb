{
  "cells": [
    {
      "cell_type": "markdown",
      "metadata": {
        "id": "l0ZzOlyxB-kf"
      },
      "source": [
        "<h1>Python: without numpy or sklearn </h1>"
      ]
    },
    {
      "cell_type": "markdown",
      "metadata": {
        "id": "C0xO8JV9B-ki"
      },
      "source": [
        "<h3> Q1: Given two matrices please print the product of those two matrices </h3>\n",
        "<pre>\n",
        "\n",
        "Ex 1: A   = [[1 3 4]\n",
        "             [2 5 7]\n",
        "             [5 9 6]]\n",
        "      B   = [[1 0 0]\n",
        "             [0 1 0]\n",
        "             [0 0 1]]\n",
        "      A*B = [[1 3 4]\n",
        "             [2 5 7]\n",
        "             [5 9 6]]\n",
        "\n",
        "     \n",
        "Ex 2: A   = [[1 2]\n",
        "             [3 4]]\n",
        "      B   = [[1 2 3 4 5]\n",
        "             [5 6 7 8 9]]\n",
        "      A*B = [[11 14 17 20 23]\n",
        "             [23 30 37 44 51]]\n",
        "             \n",
        "Ex 3: A   = [[1 2]\n",
        "             [3 4]]\n",
        "      B   = [[1 4]\n",
        "             [5 6]\n",
        "             [7 8]\n",
        "             [9 6]]\n",
        "      A*B =Not possible\n",
        "</pre>"
      ]
    },
    {
      "cell_type": "code",
      "execution_count": 72,
      "metadata": {
        "id": "rnssAfpgB-kj",
        "colab": {
          "base_uri": "https://localhost:8080/"
        },
        "outputId": "88155dad-77bd-4a57-f8b5-f78c94fe7d37"
      },
      "outputs": [
        {
          "output_type": "stream",
          "name": "stdout",
          "text": [
            "[[1, 3, 4], [2, 5, 7], [5, 9, 6]]\n"
          ]
        }
      ],
      "source": [
        "# write your python code here\n",
        "# you can take the above example as sample input for your program to test\n",
        "# it should work for any general input try not to hard code for only given input examples\n",
        "# you can take matrix input from user or you can directly define the matrix and give input to the function\n",
        "# reference for creating input - https://stackoverflow.com/questions/12293208/how-to-create-a-list-of-lists\n",
        "\n",
        "# you can free to change all these codes/structure\n",
        "# here A and B are list of lists\n",
        "def matrix_mul(A, B):\n",
        "    # write your code\n",
        "    \n",
        " \n",
        "    if (len(A[0])!=len(B)):\n",
        "      print(\"matrix multiplication not possible\")\n",
        "    else:\n",
        "      res=[[0 for x in range(len(B[0]))] for j in range(len(A))]\n",
        "      for arow in range(len(A)):\n",
        "        for bcol in range(len(B[0])):\n",
        "          for k in range(len(B)):\n",
        "            res[arow][bcol]= ((res[arow][bcol])+(A[arow][k]*B[k][bcol]))  \n",
        "         \n",
        "\n",
        "    return(res)\n",
        "\n",
        "A= [[1,3,4],\n",
        "    [2 ,5 ,7],\n",
        "    [5 ,9 ,6]]  \n",
        "B=[[1 ,0 ,0],\n",
        "   [0 ,1, 0],\n",
        "   [0,0,1]]\n",
        "\n",
        "result=matrix_mul(A, B)\n",
        "print(result)\n",
        "\n",
        "##creditss--geeks for geeks===https://www.geeksforgeeks.org/nested-list-comprehensions-in-python/\n",
        "\n"
      ]
    },
    {
      "cell_type": "markdown",
      "metadata": {
        "id": "at4VwLggB-kn"
      },
      "source": [
        ":<h3> Q2: Proportional Sampling - Select a number randomly with probability proportional to its magnitude from the given array of n elements</h3>\n",
        "\n",
        "Consider an experiment, selecting an element from the list A randomly with probability proportional to its magnitude.\n",
        "assume we are doing the same experiment for 100 times with replacement, in each experiment you will print a number that is selected randomly from A.\n",
        "\n",
        "<pre>\n",
        "Ex 1: A = [0 5 27 6 13 28 100 45 10 79]\n",
        "let f(x) denote the number of times x getting selected in 100 experiments.\n",
        "f(100) > f(79) > f(45) > f(28) > f(27) > f(13) > f(10) > f(6) > f(5) > f(0)\n",
        "</pre>"
      ]
    },
    {
      "cell_type": "code",
      "execution_count": 33,
      "metadata": {
        "id": "B6S2dpBhB-kn",
        "colab": {
          "base_uri": "https://localhost:8080/"
        },
        "outputId": "e8c4a01d-ebe7-4bfa-b608-148852e59941"
      },
      "outputs": [
        {
          "output_type": "stream",
          "name": "stdout",
          "text": [
            "79\n",
            "100\n",
            "79\n",
            "79\n",
            "79\n",
            "100\n",
            "100\n",
            "100\n",
            "28\n",
            "6\n",
            "45\n",
            "45\n",
            "100\n",
            "27\n",
            "79\n",
            "100\n",
            "100\n",
            "79\n",
            "45\n",
            "45\n",
            "100\n",
            "79\n",
            "45\n",
            "100\n",
            "79\n",
            "6\n",
            "45\n",
            "79\n",
            "27\n",
            "79\n",
            "79\n",
            "79\n",
            "100\n",
            "100\n",
            "45\n",
            "45\n",
            "79\n",
            "100\n",
            "45\n",
            "28\n",
            "28\n",
            "100\n",
            "100\n",
            "79\n",
            "100\n",
            "27\n",
            "100\n",
            "100\n",
            "27\n",
            "13\n",
            "13\n",
            "79\n",
            "27\n",
            "28\n",
            "79\n",
            "79\n",
            "27\n",
            "79\n",
            "45\n",
            "27\n",
            "28\n",
            "100\n",
            "79\n",
            "79\n",
            "100\n",
            "28\n",
            "28\n",
            "28\n",
            "13\n",
            "27\n",
            "28\n",
            "79\n",
            "10\n",
            "100\n",
            "100\n",
            "27\n",
            "79\n",
            "100\n",
            "79\n",
            "100\n",
            "79\n",
            "100\n",
            "45\n",
            "100\n",
            "100\n",
            "100\n",
            "27\n",
            "79\n",
            "45\n",
            "79\n",
            "13\n",
            "100\n",
            "45\n",
            "79\n",
            "27\n",
            "100\n",
            "27\n",
            "100\n",
            "27\n",
            "None\n"
          ]
        }
      ],
      "source": [
        "from random import uniform\n",
        "import numpy as np\n",
        "# write your python code here\n",
        "# you can take the above example as sample input for your program to test\n",
        "# it should work for any general input try not to hard code for only given input examples\n",
        "\n",
        "#video link for the topic - https://www.appliedaicourse.com/lecture/11/applied-machine-learning-online-course/2876/proportional-sampling/2/module-2-data-science-exploratory-data-analysis-and-data-visualization\n",
        "# you can free to change all these codes/structure\n",
        "def pick_a_number_from_list(A):\n",
        "    # your code here for picking an element from with the probability propotional to its magnitude\n",
        "    #calculating sum\n",
        "    sum=0\n",
        "    for i in A:\n",
        "      sum=sum+i\n",
        "\n",
        "    #calculating cumulative frequencies\n",
        "    x=0\n",
        "    list1=[]\n",
        "    for i in A:\n",
        "      list1.append(x+i/sum)\n",
        "      x=x+i/sum\n",
        "    random_val=np.random.uniform(0.0,1.0,1)   \n",
        "    for i in range (0,len(list1)):\n",
        "      if random_val>=list1[i] and random_val<list1[i+1]:\n",
        "        return(A[i+1])\n",
        "  \n",
        "def sampling_based_on_magnitued():\n",
        "    A = [0, 5 ,27, 6 ,13, 28, 100, 45 ,10, 79] \n",
        "    for i in range(1,100):\n",
        "        number = pick_a_number_from_list(A)\n",
        "        print(number)\n",
        "\n",
        "print(sampling_based_on_magnitued())\n",
        "\n",
        "##ref---stackoverflow"
      ]
    },
    {
      "cell_type": "markdown",
      "metadata": {
        "id": "D1xQy2WWB-kq"
      },
      "source": [
        "<h3> Q3: Replace the digits in the string with #</h3>\n",
        "\n",
        "consider a string that will have digits in that, we need to remove all the not digits and replace the digits with #\n",
        "<pre>\n",
        "Ex 1: A = 234                Output: ###\n",
        "Ex 2: A = a2b3c4             Output: ###\n",
        "Ex 3: A = abc                Output:   (empty string)\n",
        "Ex 5: A = #2a$#b%c%561#      Output: ####\n",
        "</pre>"
      ]
    },
    {
      "cell_type": "code",
      "execution_count": null,
      "metadata": {
        "id": "fxczi2jzB-kr",
        "colab": {
          "base_uri": "https://localhost:8080/"
        },
        "outputId": "1b1459ca-f08c-4eaf-c61a-5906c183edbc"
      },
      "outputs": [
        {
          "output_type": "stream",
          "name": "stdout",
          "text": [
            "####\n"
          ]
        }
      ],
      "source": [
        "import re\n",
        "# write your python code here\n",
        "# you can take the above example as sample input for your program to test\n",
        "# it should work for any general input try not to hard code for only given input examples\n",
        "# try to complete this question using regular expressions\n",
        "# you can free to change all these codes/structure\n",
        "# String: it will be the input to your program\n",
        "def replace_digits(String):\n",
        "    # write your code\n",
        "    str=\"\"\n",
        "    for character in String:\n",
        "      if character.isdigit():\n",
        "        str=str+\"#\"\n",
        "\n",
        "    return(str) # modified string which is after replacing the # with digits\n",
        "String=\"#2a$#b%c%561#\"\n",
        "str=replace_digits(String)\n",
        "print(str)"
      ]
    },
    {
      "cell_type": "markdown",
      "metadata": {
        "id": "j7h0Ywg7B-kw"
      },
      "source": [
        "<h3> Q4: Students marks dashboard</h3>\n",
        "\n",
        "consider the marks list of class students given two lists <br>\n",
        "Students = ['student1','student2','student3','student4','student5','student6','student7','student8','student9','student10'] <br>\n",
        "Marks = [45, 78, 12, 14, 48, 43, 45, 98, 22, 80] <br>\n",
        "from the above two lists the Student[0] got Marks[0],  Student[1] got Marks[1] and so on <br><br>\n",
        "your task is to print the name of students\n",
        "<strong>a. Who got top 5 ranks, in the descending order of marks</strong> <br>\n",
        "<strong>b. Who got least 5 ranks, in the increasing order of marks</strong><br>\n",
        "<strong>d. Who got marks between  &gt;25th percentile &lt;75th percentile, in the increasing order of marks</strong>\n",
        "\n",
        "<pre>\n",
        "Ex 1: \n",
        "Students=['student1','student2','student3','student4','student5','student6','student7','student8','student9','student10'] \n",
        "Marks = [45, 78, 12, 14, 48, 43, 47, 98, 22, 80]\n",
        "a. \n",
        "student8  98\n",
        "student10 80\n",
        "student2  78\n",
        "student5  48\n",
        "student7  47\n",
        "b.\n",
        "student3 12\n",
        "student4 14\n",
        "student9 22\n",
        "student6 43\n",
        "student1 45\n",
        "c.\n",
        "student9 22\n",
        "student6 43\n",
        "student1 45\n",
        "student7 47\n",
        "student5 48\n",
        "</pre>"
      ]
    },
    {
      "cell_type": "code",
      "execution_count": null,
      "metadata": {
        "id": "cxPJgItsB-kx",
        "colab": {
          "base_uri": "https://localhost:8080/"
        },
        "outputId": "c3a065dd-1342-4546-8f17-9ad46d5c0ea3"
      },
      "outputs": [
        {
          "output_type": "execute_result",
          "data": {
            "text/plain": [
              "([(98, 'student8'),\n",
              "  (80, 'student10'),\n",
              "  (78, 'student2'),\n",
              "  (48, 'student5'),\n",
              "  (47, 'student7')],\n",
              " [(45, 'student1'),\n",
              "  (43, 'student6'),\n",
              "  (22, 'student9'),\n",
              "  (14, 'student4'),\n",
              "  (12, 'student3')],\n",
              " [])"
            ]
          },
          "metadata": {},
          "execution_count": 44
        }
      ],
      "source": [
        "# write your python code here\n",
        "import numpy as np\n",
        "# you can take the above example as sample input for your program to test\n",
        "# it should work for any general input try not to hard code for only given input examples\n",
        "\n",
        "# you can free to change all these codes/structure\n",
        "def display_dash_board(students, marks):\n",
        "    # write code for computing top top 5 students\n",
        "    dic={}\n",
        "    val_25=0.0\n",
        "    val_75=0.0\n",
        "    students_within_25_and_75=[]\n",
        "    top_5_students=0\n",
        "    least_5_students=0\n",
        "    \n",
        "    for i in range(len(students)):\n",
        "      dic[students[i]]=marks[i]\n",
        "    sorted_dict = sorted({(value, key)for (key, value) in dic.items()},reverse=True)\n",
        "    y=dict(sorted_dict)\n",
        "    top_5_students = sorted_dict[:5]\n",
        "    # write code for computing top least 5 students\n",
        "\n",
        "    least_5_students =sorted_dict[-5:]\n",
        "    # write code for computing top least 5 students\n",
        "    val_25=np.percentile(len(marks),25)\n",
        "    val_75=np.percentile(len(marks),75)\n",
        "    for i,j  in y.items():\n",
        "      if (i>val_25 and i<val_75):\n",
        "        students_within_25_and_75.append(i)   \n",
        "    return top_5_students, least_5_students, students_within_25_and_75\n",
        "\n",
        "top_5_students, least_5_students, students_within_25_and_75 = display_dash_board(students, marks)\n",
        "top_5_students, least_5_students, students_within_25_and_75"
      ]
    },
    {
      "cell_type": "markdown",
      "metadata": {
        "id": "qha0OhQHB-k1"
      },
      "source": [
        "<h3> Q5: Find the closest points</h3>\n",
        "\n",
        "*   List item\n",
        "*   List item\n",
        "\n",
        "\n",
        "\n",
        "Consider you have given n data points in the form of list of tuples like S=[(x1,y1),(x2,y2),(x3,y3),(x4,y4),(x5,y5),..,(xn,yn)] and a point P=(p,q) <br> Your task is to find 5 closest points(based on cosine distance) in S from P\n",
        "<br>Cosine distance between two points (x,y) and (p,q) is defind as $cos^{-1}(\\frac{(x\\cdot p+y\\cdot q)}{\\sqrt(x^2+y^2)\\cdot\\sqrt(p^2+q^2)})$\n",
        "<pre>\n",
        "Ex:\n",
        "\n",
        "S= [(1,2),(3,4),(-1,1),(6,-7),(0, 6),(-5,-8),(-1,-1),(6,0),(1,-1)]\n",
        "P= (3,-4)\n",
        "\n",
        "<img src='https://i.imgur.com/vyZZQGu.png' width=400>\n",
        "\n",
        "Output:\n",
        "(6,-7)\n",
        "(1,-1)\n",
        "(6,0)\n",
        "(-5,-8)\n",
        "(-1,-1)\n",
        "</pre>\n",
        " Hint - If you write the formula correctly you'll get the distance between points (6,-7) and (3,-4) = 0.065"
      ]
    },
    {
      "cell_type": "code",
      "execution_count": 71,
      "metadata": {
        "colab": {
          "base_uri": "https://localhost:8080/"
        },
        "id": "wA5I1g-2B-k2",
        "outputId": "446b27cb-5812-49de-e95d-10c24c16cb5b"
      },
      "outputs": [
        {
          "output_type": "stream",
          "name": "stdout",
          "text": [
            "[(6, -7), (1, -1), (6, 0), (-5, -8), (-1, -1)]\n"
          ]
        }
      ],
      "source": [
        "import math\n",
        "import numpy as np\n",
        "\n",
        "\n",
        "# write your python code here\n",
        "# you can take the above example as sample input for your program to test\n",
        "# it should work for any general input try not to hard code for only given input examples\n",
        "# you can free to change all these codes/structure\n",
        "\n",
        "\n",
        "# here S is list of tuples and P is a tuple ot len=2\n",
        "def closest_points_to_p(S, P):\n",
        "    distances=[]\n",
        "    least_dist=[]\n",
        "    li=[]\n",
        "    squarepoint=0.0\n",
        "    dist=0.0\n",
        "    commonpoint=((P[0]**2)+(P[1]**2))\n",
        "    for point in S:\n",
        "      squarepoint=((point[0]**2)+(point[1]**2))\n",
        "      p=((point[0]*P[0])+(point[1]*P[1]))\n",
        "     \n",
        "      dist=((p)/(math.sqrt(commonpoint*squarepoint)))\n",
        "      cos_dist= math.acos(dist)\n",
        "         #applying cos-1 function\n",
        "      distances.append(cos_dist)\n",
        "    for i in range(5):\n",
        "      li.append(S[distances.index(min(distances))])\n",
        "      distances[distances.index(min(distances))]=100\n",
        "    return li \n",
        "\n",
        "S= [(1,2),(3,4),(-1,1),(6,-7),(0, 6),(-5,-8),(-1,-1),(6,0),(1,-1)]\n",
        "P= (3,-4)\n",
        "points = closest_points_to_p(S, P)\n",
        "print(points) #print the returned values(6,-7)\n"
      ]
    },
    {
      "cell_type": "markdown",
      "metadata": {
        "id": "-g11jeAiB-k5"
      },
      "source": [
        "<h3> Q6: Find Which line separates oranges and apples</h3>\n",
        "consider you have given two set of data points in the form of list of tuples like \n",
        "<pre>\n",
        "Red =[(R11,R12),(R21,R22),(R31,R32),(R41,R42),(R51,R52),..,(Rn1,Rn2)]\n",
        "Blue=[(B11,B12),(B21,B22),(B31,B32),(B41,B42),(B51,B52),..,(Bm1,Bm2)]\n",
        "</pre>\n",
        "and set of line equations(in the string formate, i.e list of strings)\n",
        "<pre>\n",
        "Lines = [a1x+b1y+c1,a2x+b2y+c2,a3x+b3y+c3,a4x+b4y+c4,..,K lines]\n",
        "Note: you need to string parsing here and get the coefficients of x,y and intercept\n",
        "</pre>\n",
        "your task is to for each line that is given print \"YES\"/\"NO\", you will print yes, if all the red points are one side of the line and blue points are other side of the line, otherwise no\n",
        "<pre>\n",
        "Ex:\n",
        "Red= [(1,1),(2,1),(4,2),(2,4), (-1,4)]\n",
        "Blue= [(-2,-1),(-1,-2),(-3,-2),(-3,-1),(1,-3)]\n",
        "Lines=[\"1x+1y+0\",\"1x-1y+0\",\"1x+0y-3\",\"0x+1y-0.5\"]\n",
        "<img src='https://i.imgur.com/mSnQW5K.png' width=400>\n",
        "\n",
        "Output:\n",
        "YES\n",
        "NO\n",
        "NO\n",
        "YES\n",
        "</pre>"
      ]
    },
    {
      "cell_type": "code",
      "execution_count": 25,
      "metadata": {
        "id": "eRxExaTRB-k6",
        "colab": {
          "base_uri": "https://localhost:8080/"
        },
        "outputId": "237e5cb9-f4e2-425d-a01c-a9424bb8f62c"
      },
      "outputs": [
        {
          "output_type": "stream",
          "name": "stdout",
          "text": [
            "True\n",
            "False\n",
            "False\n",
            "True\n"
          ]
        }
      ],
      "source": [
        "import math\n",
        "# write your python code here\n",
        "# you can take the above example as sample input for your program to test\n",
        "# it should work for any general input try not to hard code for only given input strings\n",
        "\n",
        "\n",
        "# you can free to change all these codes/structure\n",
        "def i_am_the_one(red,blue,line):\n",
        "  red_vals=[]\n",
        "  blue_vals=[]\n",
        "  if line[0]=='-':\n",
        "    x_coeff=int(line[1])*-1\n",
        "  else:\n",
        "    x_coeff=int(line[0])\n",
        "  \n",
        "  index_y=line.index('y')\n",
        "  if line[index_y-2]== '-':\n",
        "    y_coeff=int(line[index_y-1])*(-1)\n",
        "  else:\n",
        "    y_coeff=int(line[index_y-1])\n",
        "  \n",
        "  if i[-2]=='-':\n",
        "      intercept=int(line[-1])*-1\n",
        "  if i[-2]=='.':\n",
        "      intercept=float(line[-1])/(10)    \n",
        "  else:\n",
        "      intercept=int(line[-1])   \n",
        "  \n",
        "  for point in red:\n",
        "    red_vals.append((point[0]*x_coeff)+(point[1]*y_coeff+intercept))    \n",
        "\n",
        "\n",
        "  for point in blue:\n",
        "    blue_vals.append((point[0]*x_coeff)+(point[1]*y_coeff+intercept))    \n",
        "      \n",
        "  if ((all(x >= 0 for x in red_vals)) and (all(y <=0 for y in blue_vals))):\n",
        "     return True\n",
        "    \n",
        "  if ((all(x <= 0 for x in red_vals)) and (all(x >= 0 for x in blue_vals))):\n",
        "    return True\n",
        "  else:\n",
        "    return False\n",
        "Red= [(1,1),(2,1),(4,2),(2,4), (-1,4)]\n",
        "Blue= [(-2,-1),(-1,-2),(-3,-2),(-3,-1),(1,-3)]\n",
        "Lines=[\"1x+1y+0\",\"1x-1y+0\",\"1x+0y-3\",\"0x+1y-0.5\"]\n",
        "\n",
        "for i in Lines:\n",
        "    yes_or_no = i_am_the_one(Red, Blue, i)\n",
        "    print(yes_or_no) # the returned value"
      ]
    },
    {
      "cell_type": "markdown",
      "metadata": {
        "id": "9OBpURbNB-k9"
      },
      "source": [
        "<h3> Q7: Filling the missing values in the specified formate</h3>\n",
        "You will be given a string with digits and '\\_'(missing value) symbols you have to replace the '\\_' symbols as explained \n",
        "<pre>\n",
        "Ex 1: _, _, _, 24 ==> 24/4, 24/4, 24/4, 24/4 i.e we. have distributed the 24 equally to all 4 places <br>\n",
        "Ex 2: 40, _, _, _, 60 ==> (60+40)/5,(60+40)/5,(60+40)/5,(60+40)/5,(60+40)/5 ==> 20, 20, 20, 20, 20 i.e. the sum of (60+40) is distributed qually to all 5 places<br>\n",
        "Ex 3: 80, _, _, _, _  ==> 80/5,80/5,80/5,80/5,80/5 ==> 16, 16, 16, 16, 16 i.e. the 80 is distributed qually to all 5 missing values that are right to it<br>\n",
        "Ex 4: _, _, 30, _, _, _, 50, _, _  \n",
        "==> we will fill the missing values from left to right \n",
        "    a. first we will distribute the 30 to left two missing values (10, 10, 10, _, _, _, 50, _, _)\n",
        "    b. now distribute the sum (10+50) missing values in between (10, 10, 12, 12, 12, 12, 12, _, _) \n",
        "    c. now we will distribute 12 to right side missing values (10, 10, 12, 12, 12, 12, 4, 4, 4)\n",
        "</pre>\n",
        "for a given string with comma seprate values, which will have both missing values numbers like ex: \"_, _, x, _, _, _\"\n",
        "you need fill the missing values\n",
        "\n",
        "Q: your program reads a string like ex: \"_, _, x, _, _, _\" and returns the filled sequence\n",
        "\n",
        "Ex: \n",
        "<pre>\n",
        "Input1: \"_,_,_,24\"\n",
        "Output1: 6,6,6,6\n",
        "\n",
        "Input2: \"40,_,_,_,60\"\n",
        "Output2: 20,20,20,20,20\n",
        "\n",
        "Input3: \"80,_,_,_,_\"\n",
        "Output3: 16,16,16,16,16\n",
        "\n",
        "Input4: \"_,_,30,_,_,_,50,_,_\"\n",
        "Output4: 10,10,12,12,12,12,4,4,4\n",
        "\n",
        "</pre>\n",
        "\n"
      ]
    },
    {
      "cell_type": "code",
      "execution_count": 114,
      "metadata": {
        "colab": {
          "base_uri": "https://localhost:8080/"
        },
        "id": "nZmpzHs_B-k-",
        "outputId": "f2b8bb30-ef72-4e62-f309-054d89d43ef5"
      },
      "outputs": [
        {
          "output_type": "stream",
          "name": "stdout",
          "text": [
            "[10.0, 10.0, 12.0, 12.0, 12.0, 12.0, 4.0, 4.0, 4.0]\n"
          ]
        }
      ],
      "source": [
        "# write your python code here\n",
        "# you can take the above example as sample input for your program to test\n",
        "# it should work for any general input try not to hard code for only given input strings\n",
        "#run your code in the function for each of the inputs mentioned above and make sure that you get the same results\n",
        "\n",
        "# you can free to change all these codes/structure\n",
        "def curve_smoothing(string):\n",
        "  li=[]\n",
        "  li=string.split(\",\")\n",
        "  l = list(map(lambda x: x.replace('_', '0'), li))\n",
        "  res=[int(i) for i in l]\n",
        "  min_term=0\n",
        "  for idx in range(len(res)):\n",
        "    if res[idx]>0 or idx==len(res)-1:\n",
        "      p=idx-min_term+1\n",
        "      value=(res[min_term]+res[idx])/p\n",
        "      for kk in range(min_term,idx+1):\n",
        "         res[kk]=value\n",
        "      min_term=idx\n",
        "    # your code\n",
        "    \n",
        "\n",
        "\n",
        "\n",
        "   \n",
        "\n",
        "  return res\n",
        "\n",
        "\n",
        "S=  \"_,_,30,_,_,_,50,_,_\"\n",
        "smoothed_values= curve_smoothing(S)\n",
        "print(smoothed_values)"
      ]
    },
    {
      "cell_type": "markdown",
      "metadata": {
        "id": "RBz4pzlfB-lB"
      },
      "source": [
        "<h3> Q8: Filling the missing values in the specified formate</h3>\n",
        "You will be given a list of lists, each sublist will be of length 2 i.e. [[x,y],[p,q],[l,m]..[r,s]]\n",
        "consider its like a martrix of n rows and two columns\n",
        "1. the first column F will contain only 5 uniques values (F1, F2, F3, F4, F5)\n",
        "2. the second column S will contain only 3 uniques values (S1, S2, S3)\n",
        "<pre>\n",
        "your task is to find\n",
        "a. Probability of P(F=F1|S==S1), P(F=F1|S==S2), P(F=F1|S==S3)\n",
        "b. Probability of P(F=F2|S==S1), P(F=F2|S==S2), P(F=F2|S==S3)\n",
        "c. Probability of P(F=F3|S==S1), P(F=F3|S==S2), P(F=F3|S==S3)\n",
        "d. Probability of P(F=F4|S==S1), P(F=F4|S==S2), P(F=F4|S==S3)\n",
        "e. Probability of P(F=F5|S==S1), P(F=F5|S==S2), P(F=F5|S==S3)\n",
        "</pre>\n",
        "Ex:\n",
        "\n",
        "<pre>\n",
        "[[F1,S1],[F2,S2],[F3,S3],[F1,S2],[F2,S3],[F3,S2],[F2,S1],[F4,S1],[F4,S3],[F5,S1]]\n",
        "\n",
        "a. P(F=F1|S==S1)=1/4, P(F=F1|S==S2)=1/3, P(F=F1|S==S3)=0/3\n",
        "b. P(F=F2|S==S1)=1/4, P(F=F2|S==S2)=1/3, P(F=F2|S==S3)=1/3\n",
        "c. P(F=F3|S==S1)=0/4, P(F=F3|S==S2)=1/3, P(F=F3|S==S3)=1/3\n",
        "d. P(F=F4|S==S1)=1/4, P(F=F4|S==S2)=0/3, P(F=F4|S==S3)=1/3\n",
        "e. P(F=F5|S==S1)=1/4, P(F=F5|S==S2)=0/3, P(F=F5|S==S3)=0/3\n",
        "</pre>\n",
        "\n",
        "\n"
      ]
    },
    {
      "cell_type": "code",
      "execution_count": 68,
      "metadata": {
        "colab": {
          "base_uri": "https://localhost:8080/"
        },
        "id": "e-1giz1MB-lC",
        "outputId": "e8fa1605-739f-4aab-e468-f3599a05c9b4"
      },
      "outputs": [
        {
          "output_type": "stream",
          "name": "stdout",
          "text": [
            "probability of F=F1 / S=S1=1/4\n",
            "probability of F=F2 / S=S1=1/4\n",
            "probability of F=F4 / S=S1=1/4\n",
            "probability of F=F5 / S=S1=1/4\n",
            "probability of F=F2 / S=S2=1/3\n",
            "probability of F=F1 / S=S2=1/3\n",
            "probability of F=F3 / S=S2=1/3\n",
            "probability of F=F3 / S=S3=1/3\n",
            "probability of F=F2 / S=S3=1/3\n",
            "probability of F=F4 / S=S3=1/3\n"
          ]
        }
      ],
      "source": [
        "# write your python code here\n",
        "# you can take the above example as sample input for your program to test\n",
        "# it should work for any general input try not to hard code for only given input strings. Do not write 15 print statements.\n",
        "# you can use nested loops or dictionaries to write your code\n",
        "\n",
        "\n",
        "# you can free to change all these codes/structure\n",
        "def compute_conditional_probabilites(A):\n",
        "  d={}\n",
        "  p={}\n",
        "  u={} \n",
        "  l={}\n",
        "  for x in A:\n",
        "    sval=x[1]\n",
        "    d[sval] = d.get(sval,0) + 1\n",
        "  s1=[]\n",
        "  s2=[]\n",
        "  s3=[]\n",
        "  for i in A:\n",
        "    if i[1]==\"S1\":\n",
        "      s1.append(i[0])\n",
        "    if i[1]==\"S2\":\n",
        "      s2.append(i[0])\n",
        "    if i[1]==\"S3\":\n",
        "      s3.append(i[0])  \n",
        "  sorted(s1)\n",
        "  sorted(s2)\n",
        "  sorted(s3)\n",
        "  for i in s1:\n",
        "    p[i] = p.get(i,0) + 1\n",
        "    print(\"probability of F={} / S=S1={}/{}\".format(i,p[i],d['S1']))\n",
        "  for i in s2:\n",
        "    u[i] = u.get(i,0) + 1\n",
        "    print(\"probability of F={} / S=S2={}/{}\".format(i,u[i],d['S2']))   \n",
        "  for i in s3:\n",
        "    l[i] = l.get(i,0) + 1\n",
        "    print(\"probability of F={} / S=S3={}/{}\".format(i,l[i],d['S3']))\n",
        "  \n",
        "    # print the output as per the instructions\n",
        "\n",
        "A = [['F1','S1'],['F2','S2'],['F3','S3'],['F1','S2'],['F2','S3'],['F3','S2'],['F2','S1'],['F4','S1'],['F4','S3'],['F5','S1']]\n",
        "\n",
        "compute_conditional_probabilites(A)"
      ]
    },
    {
      "cell_type": "markdown",
      "metadata": {
        "id": "n4HS87QmB-lF"
      },
      "source": [
        "<h3> Q9: Given two sentances S1, S2</h3>\n",
        "You will be given two sentances S1, S2 your task is to find \n",
        "<pre>\n",
        "a. Number of common words between S1, S2\n",
        "b. Words in S1 but not in S2\n",
        "c. Words in S2 but not in S1\n",
        "</pre>\n",
        "\n",
        "Ex: \n",
        "<pre>\n",
        "S1= \"the first column F will contain only 5 uniques values\"\n",
        "S2= \"the second column S will contain only 3 uniques values\"\n",
        "Output:\n",
        "a. 7\n",
        "b. ['first','F','5']\n",
        "c. ['second','S','3']\n",
        "</pre>"
      ]
    },
    {
      "cell_type": "code",
      "execution_count": null,
      "metadata": {
        "colab": {
          "base_uri": "https://localhost:8080/"
        },
        "id": "Ez7hlHK0B-lG",
        "outputId": "0d97f6aa-e90f-4b18-817d-144812c92846"
      },
      "outputs": [
        {
          "output_type": "stream",
          "name": "stdout",
          "text": [
            "no of common words are 7\n",
            "b.['first', 'F', '5']\n",
            "c.['second', 'S', '3']\n"
          ]
        }
      ],
      "source": [
        "# write your python code here\n",
        "# you can take the above example as sample input for your program to test\n",
        "# it should work for any general input try not to hard code for only given input strings\n",
        "\n",
        "# you can free to change all these codes/structure\n",
        "def string_features(S1, S2):\n",
        "    # your code\n",
        "    a=0\n",
        "    b=[]\n",
        "    c=[]\n",
        "    list_1=S1.split(\" \")\n",
        "    list_2=S2.split(\" \")\n",
        "    for i in list_1:\n",
        "      if i in list_2:\n",
        "        a=a+1\n",
        "      else:\n",
        "        b.append(i)  \n",
        "    for i in list_2:\n",
        "      if i not in list_1:\n",
        "        c.append(i)\n",
        "              \n",
        "\n",
        "    return a, b, c\n",
        "\n",
        "S1= \"the first column F will contain only 5 uniques values\"\n",
        "S2= \"the second column S will contain only 3 uniques values\"\n",
        "a,b,c = string_features(S1, S2)\n",
        "print(\"no of common words are {}\".format(a))\n",
        "print(\"b.{}\".format(b))\n",
        "print(\"c.{}\".format(c))"
      ]
    },
    {
      "cell_type": "markdown",
      "metadata": {
        "id": "XefXVEjCB-lI"
      },
      "source": [
        "<h3> Q10: Given two sentances S1, S2</h3>\n",
        "You will be given a list of lists, each sublist will be of length 2 i.e. [[x,y],[p,q],[l,m]..[r,s]]\n",
        "consider its like a martrix of n rows and two columns\n",
        "\n",
        "a. the first column Y will contain interger values <br>\n",
        "b. the second column $Y_{score}$ will be having float values <br>\n",
        "Your task is to find the value of $f(Y,Y_{score}) = -1*\\frac{1}{n}\\Sigma_{for each Y,Y_{score} pair}(Ylog10(Y_{score})+(1-Y)log10(1-Y_{score}))$ here n is the number of rows in the matrix\n",
        "<pre>\n",
        "Ex:\n",
        "[[1, 0.4], [0, 0.5], [0, 0.9], [0, 0.3], [0, 0.6], [1, 0.1], [1, 0.9], [1, 0.8]]\n",
        "output:\n",
        "0.4243099\n",
        "</pre>\n",
        "$\\frac{-1}{8}\\cdot((1\\cdot log_{10}(0.4)+0\\cdot log_{10}(0.6))+(0\\cdot log_{10}(0.5)+1\\cdot log_{10}(0.5)) + ... + (1\\cdot log_{10}(0.8)+0\\cdot log_{10}(0.2)) )$"
      ]
    },
    {
      "cell_type": "code",
      "execution_count": null,
      "metadata": {
        "colab": {
          "base_uri": "https://localhost:8080/"
        },
        "id": "N9zkagyNB-lJ",
        "outputId": "3841132f-f644-4875-9ef6-ecc816cda111"
      },
      "outputs": [
        {
          "output_type": "stream",
          "name": "stdout",
          "text": [
            "0.42430993457031635\n"
          ]
        }
      ],
      "source": [
        "from logging import log\n",
        "from logging import log\n",
        "import math\n",
        "# write your python code here\n",
        "# you can take the above example as sample input for your program to test\n",
        "# it should work for any general input try not to hard code for only given input strings\n",
        "\n",
        "\n",
        "# you can free to change all these codes/structure\n",
        "def compute_log_loss(A):\n",
        "    # your code\n",
        "    loss=0.0\n",
        "    sum=0.0\n",
        "    res_each_pair=0.0\n",
        "    n=len(A)\n",
        "    for each_pair in A:\n",
        "      res_each_pair=((each_pair[0]*math.log10(each_pair[1]))+((1-each_pair[0])*math.log10(1-each_pair[1])))\n",
        "      \n",
        "      sum=sum+ res_each_pair\n",
        "      \n",
        "    loss=((-1)/n)*sum\n",
        "\n",
        "\n",
        "    \n",
        "    return loss\n",
        "\n",
        "A = [[1, 0.4], [0, 0.5], [0, 0.9], [0, 0.3], [0, 0.6], [1, 0.1], [1, 0.9], [1, 0.8]]\n",
        "loss = compute_log_loss(A)\n",
        "print(loss)"
      ]
    },
    {
      "cell_type": "code",
      "source": [],
      "metadata": {
        "id": "SZr23TH47903"
      },
      "execution_count": null,
      "outputs": []
    }
  ],
  "metadata": {
    "colab": {
      "provenance": []
    },
    "kernelspec": {
      "display_name": "Python 3",
      "language": "python",
      "name": "python3"
    },
    "language_info": {
      "codemirror_mode": {
        "name": "ipython",
        "version": 3
      },
      "file_extension": ".py",
      "mimetype": "text/x-python",
      "name": "python",
      "nbconvert_exporter": "python",
      "pygments_lexer": "ipython3",
      "version": "3.6.3"
    }
  },
  "nbformat": 4,
  "nbformat_minor": 0
}