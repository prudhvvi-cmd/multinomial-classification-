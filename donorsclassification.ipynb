{
  "cells": [
    {
      "cell_type": "markdown",
      "metadata": {
        "id": "Dnubs-Nnb3cw"
      },
      "source": [
        "# Assignment 6: Apply NB"
      ]
    },
    {
      "cell_type": "markdown",
      "metadata": {
        "id": "RW0zYHb5m_wI"
      },
      "source": [
        "<ol>\n",
        "    <li>Minimum data points need to be considered for people having 4GB RAM is <strong>50k</strong> and for 8GB RAM is <strong>100k</strong></li>\n",
        "    <li>When you are using ramdomsearchcv or gridsearchcv you need not split the data into X_train,X_cv,X_test. As the above methods use kfold. The model will learn better if train data is more so splitting to X_train,X_test will suffice.</li>\n",
        "    <li>If you are writing for loops to tune your model then you need split the data into X_train,X_cv,X_test.</li>\n",
        "    <li>While splitting the data explore stratify parameter. </li>\n",
        "    <li><strong>Apply Multinomial NB on these feature sets</strong></li>\n",
        "        <ul>\n",
        "            <li>Features that need to be considered</li> \n",
        "                <dl>\n",
        "                  <dt>essay</dt>\n",
        "                    <dd>while encoding essay, try to experiment with the max_features and n_grams parameter of vectorizers and see if it increases AUC score.</dd>\n",
        "                  <dt>categorical features</dt>\n",
        "                  <dd> - teacher_prefix</dd>\n",
        "                  <dd> - project_grade_category</dd>\n",
        "                  <dd> - school_state</dd>\n",
        "                  <dd> - clean_categories</dd>\n",
        "                  <dd> - clean_subcategories</dd>\n",
        "                  <dt>numerical features</dt>\n",
        "                  <dd> - price</dd>\n",
        "                  <dd> - teacher_number_of_previously_posted_projects</dd>\n",
        "                  <dd>while encoding the numerical features check <a href='https://imgur.com/ldZA1zg'>this</a> and <a href='https://ac-classroom-production.s3.amazonaws.com/public/COMMENT/Annotation_2020-05-21_225912_0lyZzN8.jpg'>this</a></dd>\n",
        "                </dl>    \n",
        "            <li><font color='red'>Set 1</font>: categorical, numerical features + preprocessed_eassay (BOW)</li>\n",
        "            <li><font color='red'>Set 2</font>: categorical, numerical features + preprocessed_eassay (TFIDF)</li>\n",
        "        </ul>\n",
        "    <li><strong>The hyper paramter tuning(find best alpha:smoothing parameter)</strong>\n",
        "        <ul>\n",
        "    <li>Consider alpha values in range: 10^-5 to 10^2 like [0.00001,0.0005, 0.0001,0.005,0.001,0.05,0.01,0.1,0.5,1,5,10,50,100]</li>\n",
        "    <li>Explore class_prior = [0.5, 0.5] parameter which can be present in MultinomialNB function(go through <a href='https://scikit-learn.org/stable/modules/generated/sklearn.naive_bayes.MultinomialNB.html'>this</a> ) then check how results might change.\n",
        "    <li>Find the best hyper parameter which will give the maximum <a href='https://www.appliedaicourse.com/course/applied-ai-course-online/lessons/receiver-operating-characteristic-curve-roc-curve-and-auc-1/'>AUC</a> value</li>\n",
        "    <li>For hyper parameter tuning using k-fold cross validation(use GridsearchCV or RandomsearchCV)/simple cross validation data (write for loop to iterate over hyper parameter values)</li>\n",
        "    <li>You need to plot the performance of model both on train data and cross validation data for each hyper parameter, like shown in the figure\n",
        "    <img src='https://i.imgur.com/hUv6aEy.jpg' width=300px><dd>-while plotting take log(alpha) on your X-axis so that it will be more readable</dd></li>\n",
        "    <li>Once after you found the best hyper parameter, you need to train your model with it, and find the AUC on test data and plot the ROC curve on both train and test.\n",
        "    <img src='https://imgur.com/q2P65L5.jpg' width=300px></li>\n",
        "    <li>Along with plotting ROC curve, you need to print the <a href='https://www.appliedaicourse.com/course/applied-ai-course-online/lessons/confusion-matrix-tpr-fpr-fnr-tnr-1/'>confusion matrix</a> with predicted and original labels of test data points\n",
        "        <img src='https://i.imgur.com/IdN5Ctv.png' width=300px><dd>-plot the confusion matrix in heatmaps, while plotting the confusion matrix go through the <a href='https://stackoverflow.com/questions/61748441/how-to-fix-the-values-displayed-in-a-confusion-matrix-in-exponential-form-to-nor'>link </a>\n",
        "</dd></li>\n",
        "        </ul>\n",
        "<li>find the top 20 features from either from feature <font color='red'>Set 1</font> or feature <font color='red'>Set 2</font> using values of `feature_log_prob_ ` parameter of `MultinomialNB` \n",
        "(https://scikit-learn.org/stable/modules/generated/sklearn.naive_bayes.MultinomialNB.html) and print <strong>BOTH</strong> positive as well as negative corresponding feature names. <dd> - go through the <a href='https://imgur.com/mWvE7gj'>link </a> </dd>\n",
        "    </li>\n",
        "    <li>You need to summarize the results at the end of the notebook, summarize it in the table format\n",
        "        <img src='http://i.imgur.com/YVpIGGE.jpg' width=400px>\n",
        "    </li>\n",
        "</ol>"
      ]
    },
    {
      "cell_type": "code",
      "execution_count": null,
      "metadata": {
        "id": "chpSjDaXm9KG"
      },
      "outputs": [],
      "source": []
    },
    {
      "cell_type": "markdown",
      "metadata": {
        "id": "inzYCIaib3c3"
      },
      "source": [
        "<h1>2. Naive Bayes </h1>"
      ]
    },
    {
      "cell_type": "markdown",
      "metadata": {
        "id": "FYqCIxzFb3c5"
      },
      "source": [
        "## 1.1 Loading Data"
      ]
    },
    {
      "cell_type": "code",
      "execution_count": 35,
      "metadata": {
        "id": "dA1jknyqb3c_"
      },
      "outputs": [],
      "source": [
        "#make sure you are loading atleast 50k datapoints\n",
        "#you can work with features of preprocessed_data.csv for the assignment.\n",
        "# If you want to add more features, you can add. (This is purely optional, not mandatory)\n",
        "\n",
        "import pandas\n",
        "data = pandas.read_csv('/content/drive/MyDrive/data_to_google_colab/Copy of preprocessed_data.csv',nrows=15000)"
      ]
    },
    {
      "cell_type": "code",
      "source": [
        "from google.colab import drive\n",
        "drive.mount('/content/drive')"
      ],
      "metadata": {
        "colab": {
          "base_uri": "https://localhost:8080/"
        },
        "id": "uIdGsKNA6Rd9",
        "outputId": "5dacb32a-34ac-4865-8d4a-f6532035125f"
      },
      "execution_count": 2,
      "outputs": [
        {
          "output_type": "stream",
          "name": "stdout",
          "text": [
            "Mounted at /content/drive\n"
          ]
        }
      ]
    },
    {
      "cell_type": "markdown",
      "metadata": {
        "id": "WtVV13Fyb3dH"
      },
      "source": [
        "<h2>1.2 Splitting data into Train and cross validation(or test): Stratified Sampling</h2>"
      ]
    },
    {
      "cell_type": "code",
      "execution_count": 224,
      "metadata": {
        "colab": {
          "base_uri": "https://localhost:8080/"
        },
        "id": "8Sx6chU5LIs_",
        "outputId": "de037c09-4fea-4511-ae21-977da472538c"
      },
      "outputs": [
        {
          "output_type": "execute_result",
          "data": {
            "text/plain": [
              "array(['school_state', 'teacher_prefix', 'project_grade_category',\n",
              "       'teacher_number_of_previously_posted_projects',\n",
              "       'project_is_approved', 'clean_categories', 'clean_subcategories',\n",
              "       'essay', 'price'], dtype=object)"
            ]
          },
          "metadata": {},
          "execution_count": 224
        }
      ],
      "source": [
        "# write your code in following steps for task 1\n",
        "# 1. Split your data.\n",
        "# 2. Perform Bag of Words Vectorization of text data.\n",
        "# 3. Perform tfidf vectorization of text data.\n",
        "# 4. perform one-hot encoding of categorical features.\n",
        "# 5. perform normalization of numerical features\n",
        "# 6. For set 1 stack up all the features using hstack()\n",
        "# 7. For set 2 stack up all the features using hstack()\n",
        "# 8. Perform hyperparameter tuning and represent the training and cross-validation AUC scores for different 'alpha' values, using a 2D line plot.\n",
        "# 9. Find the best hyperparameter 'alpha' and fit the model. Plot ROC-AUC curve(by obtaining the probabilities using 'predict proba' method)\n",
        "# 10. Plot confusion matrix based on the best threshold value\n",
        "# 11. Either for the model in set 1 or in set 2, print the top 20 features(you have to print the names, not the indexes) associated with the positive and negative classes each.\n",
        "# 12. Summarize your observations and compare both the models(ie., from set 1 and set 2) in terms of optimal hyperparameter value, train AUC and test AUC scores. \n",
        "# 13. You can use Prettytable or any other tabular format for comparison.\n",
        "\n",
        "\n",
        "# please write all the code with proper documentation, and proper titles for each subsection\n",
        "# go through documentations and blogs before you start coding\n",
        "# first figure out what to do, and then think about how to do.\n",
        "# reading and understanding error messages will be very much helpfull in debugging your code\n",
        "# when you plot any graph make sure you use \n",
        "    # a. Title, that describes your plot, this will be very helpful to the reader\n",
        "    # b. Legends if needed\n",
        "    # c. X-axis label\n",
        "    # d. Y-axis label\"\n",
        "    \n",
        "data.columns.values\n",
        "\n",
        "    "
      ]
    },
    {
      "cell_type": "code",
      "execution_count": 36,
      "metadata": {
        "id": "i-PyprDNb3dI"
      },
      "outputs": [],
      "source": [
        "y=data[\"project_is_approved\"]\n",
        "x=data.drop([\"project_is_approved\"],axis=1)\n",
        "# Split the dataset \n",
        "\n",
        "\n",
        "# 1) If you want to apply simple cross-validation, split the dataset into 3 parts (ie., train, CV and test sets)\n",
        "# 2) If you want to apply K-fold CV (or) GridSearch Cross Validation (or) Randomized Search Cross Validation, just split the dataset into 2 parts (ie., train and test sets)\n",
        "\n"
      ]
    },
    {
      "cell_type": "code",
      "source": [
        "x.head()"
      ],
      "metadata": {
        "colab": {
          "base_uri": "https://localhost:8080/",
          "height": 475
        },
        "id": "7aC8jdfpUXn6",
        "outputId": "ec296348-ff5d-4faa-fd49-c77c2e368844"
      },
      "execution_count": 5,
      "outputs": [
        {
          "output_type": "execute_result",
          "data": {
            "text/plain": [
              "  school_state teacher_prefix project_grade_category  \\\n",
              "0           ca            mrs          grades_prek_2   \n",
              "1           ut             ms             grades_3_5   \n",
              "2           ca            mrs          grades_prek_2   \n",
              "3           ga            mrs          grades_prek_2   \n",
              "4           wa            mrs             grades_3_5   \n",
              "\n",
              "   teacher_number_of_previously_posted_projects   clean_categories  \\\n",
              "0                                            53       math_science   \n",
              "1                                             4       specialneeds   \n",
              "2                                            10  literacy_language   \n",
              "3                                             2    appliedlearning   \n",
              "4                                             2  literacy_language   \n",
              "\n",
              "                  clean_subcategories  \\\n",
              "0  appliedsciences health_lifescience   \n",
              "1                        specialneeds   \n",
              "2                            literacy   \n",
              "3                    earlydevelopment   \n",
              "4                            literacy   \n",
              "\n",
              "                                               essay   price  \n",
              "0  i fortunate enough use fairy tale stem kits cl...  725.05  \n",
              "1  imagine 8 9 years old you third grade classroo...  213.03  \n",
              "2  having class 24 students comes diverse learner...  329.00  \n",
              "3  i recently read article giving students choice...  481.04  \n",
              "4  my students crave challenge eat obstacles brea...   17.74  "
            ],
            "text/html": [
              "\n",
              "  <div id=\"df-330ce8cd-98eb-4929-a63b-234d2d7d0646\">\n",
              "    <div class=\"colab-df-container\">\n",
              "      <div>\n",
              "<style scoped>\n",
              "    .dataframe tbody tr th:only-of-type {\n",
              "        vertical-align: middle;\n",
              "    }\n",
              "\n",
              "    .dataframe tbody tr th {\n",
              "        vertical-align: top;\n",
              "    }\n",
              "\n",
              "    .dataframe thead th {\n",
              "        text-align: right;\n",
              "    }\n",
              "</style>\n",
              "<table border=\"1\" class=\"dataframe\">\n",
              "  <thead>\n",
              "    <tr style=\"text-align: right;\">\n",
              "      <th></th>\n",
              "      <th>school_state</th>\n",
              "      <th>teacher_prefix</th>\n",
              "      <th>project_grade_category</th>\n",
              "      <th>teacher_number_of_previously_posted_projects</th>\n",
              "      <th>clean_categories</th>\n",
              "      <th>clean_subcategories</th>\n",
              "      <th>essay</th>\n",
              "      <th>price</th>\n",
              "    </tr>\n",
              "  </thead>\n",
              "  <tbody>\n",
              "    <tr>\n",
              "      <th>0</th>\n",
              "      <td>ca</td>\n",
              "      <td>mrs</td>\n",
              "      <td>grades_prek_2</td>\n",
              "      <td>53</td>\n",
              "      <td>math_science</td>\n",
              "      <td>appliedsciences health_lifescience</td>\n",
              "      <td>i fortunate enough use fairy tale stem kits cl...</td>\n",
              "      <td>725.05</td>\n",
              "    </tr>\n",
              "    <tr>\n",
              "      <th>1</th>\n",
              "      <td>ut</td>\n",
              "      <td>ms</td>\n",
              "      <td>grades_3_5</td>\n",
              "      <td>4</td>\n",
              "      <td>specialneeds</td>\n",
              "      <td>specialneeds</td>\n",
              "      <td>imagine 8 9 years old you third grade classroo...</td>\n",
              "      <td>213.03</td>\n",
              "    </tr>\n",
              "    <tr>\n",
              "      <th>2</th>\n",
              "      <td>ca</td>\n",
              "      <td>mrs</td>\n",
              "      <td>grades_prek_2</td>\n",
              "      <td>10</td>\n",
              "      <td>literacy_language</td>\n",
              "      <td>literacy</td>\n",
              "      <td>having class 24 students comes diverse learner...</td>\n",
              "      <td>329.00</td>\n",
              "    </tr>\n",
              "    <tr>\n",
              "      <th>3</th>\n",
              "      <td>ga</td>\n",
              "      <td>mrs</td>\n",
              "      <td>grades_prek_2</td>\n",
              "      <td>2</td>\n",
              "      <td>appliedlearning</td>\n",
              "      <td>earlydevelopment</td>\n",
              "      <td>i recently read article giving students choice...</td>\n",
              "      <td>481.04</td>\n",
              "    </tr>\n",
              "    <tr>\n",
              "      <th>4</th>\n",
              "      <td>wa</td>\n",
              "      <td>mrs</td>\n",
              "      <td>grades_3_5</td>\n",
              "      <td>2</td>\n",
              "      <td>literacy_language</td>\n",
              "      <td>literacy</td>\n",
              "      <td>my students crave challenge eat obstacles brea...</td>\n",
              "      <td>17.74</td>\n",
              "    </tr>\n",
              "  </tbody>\n",
              "</table>\n",
              "</div>\n",
              "      <button class=\"colab-df-convert\" onclick=\"convertToInteractive('df-330ce8cd-98eb-4929-a63b-234d2d7d0646')\"\n",
              "              title=\"Convert this dataframe to an interactive table.\"\n",
              "              style=\"display:none;\">\n",
              "        \n",
              "  <svg xmlns=\"http://www.w3.org/2000/svg\" height=\"24px\"viewBox=\"0 0 24 24\"\n",
              "       width=\"24px\">\n",
              "    <path d=\"M0 0h24v24H0V0z\" fill=\"none\"/>\n",
              "    <path d=\"M18.56 5.44l.94 2.06.94-2.06 2.06-.94-2.06-.94-.94-2.06-.94 2.06-2.06.94zm-11 1L8.5 8.5l.94-2.06 2.06-.94-2.06-.94L8.5 2.5l-.94 2.06-2.06.94zm10 10l.94 2.06.94-2.06 2.06-.94-2.06-.94-.94-2.06-.94 2.06-2.06.94z\"/><path d=\"M17.41 7.96l-1.37-1.37c-.4-.4-.92-.59-1.43-.59-.52 0-1.04.2-1.43.59L10.3 9.45l-7.72 7.72c-.78.78-.78 2.05 0 2.83L4 21.41c.39.39.9.59 1.41.59.51 0 1.02-.2 1.41-.59l7.78-7.78 2.81-2.81c.8-.78.8-2.07 0-2.86zM5.41 20L4 18.59l7.72-7.72 1.47 1.35L5.41 20z\"/>\n",
              "  </svg>\n",
              "      </button>\n",
              "      \n",
              "  <style>\n",
              "    .colab-df-container {\n",
              "      display:flex;\n",
              "      flex-wrap:wrap;\n",
              "      gap: 12px;\n",
              "    }\n",
              "\n",
              "    .colab-df-convert {\n",
              "      background-color: #E8F0FE;\n",
              "      border: none;\n",
              "      border-radius: 50%;\n",
              "      cursor: pointer;\n",
              "      display: none;\n",
              "      fill: #1967D2;\n",
              "      height: 32px;\n",
              "      padding: 0 0 0 0;\n",
              "      width: 32px;\n",
              "    }\n",
              "\n",
              "    .colab-df-convert:hover {\n",
              "      background-color: #E2EBFA;\n",
              "      box-shadow: 0px 1px 2px rgba(60, 64, 67, 0.3), 0px 1px 3px 1px rgba(60, 64, 67, 0.15);\n",
              "      fill: #174EA6;\n",
              "    }\n",
              "\n",
              "    [theme=dark] .colab-df-convert {\n",
              "      background-color: #3B4455;\n",
              "      fill: #D2E3FC;\n",
              "    }\n",
              "\n",
              "    [theme=dark] .colab-df-convert:hover {\n",
              "      background-color: #434B5C;\n",
              "      box-shadow: 0px 1px 3px 1px rgba(0, 0, 0, 0.15);\n",
              "      filter: drop-shadow(0px 1px 2px rgba(0, 0, 0, 0.3));\n",
              "      fill: #FFFFFF;\n",
              "    }\n",
              "  </style>\n",
              "\n",
              "      <script>\n",
              "        const buttonEl =\n",
              "          document.querySelector('#df-330ce8cd-98eb-4929-a63b-234d2d7d0646 button.colab-df-convert');\n",
              "        buttonEl.style.display =\n",
              "          google.colab.kernel.accessAllowed ? 'block' : 'none';\n",
              "\n",
              "        async function convertToInteractive(key) {\n",
              "          const element = document.querySelector('#df-330ce8cd-98eb-4929-a63b-234d2d7d0646');\n",
              "          const dataTable =\n",
              "            await google.colab.kernel.invokeFunction('convertToInteractive',\n",
              "                                                     [key], {});\n",
              "          if (!dataTable) return;\n",
              "\n",
              "          const docLinkHtml = 'Like what you see? Visit the ' +\n",
              "            '<a target=\"_blank\" href=https://colab.research.google.com/notebooks/data_table.ipynb>data table notebook</a>'\n",
              "            + ' to learn more about interactive tables.';\n",
              "          element.innerHTML = '';\n",
              "          dataTable['output_type'] = 'display_data';\n",
              "          await google.colab.output.renderOutput(dataTable, element);\n",
              "          const docLink = document.createElement('div');\n",
              "          docLink.innerHTML = docLinkHtml;\n",
              "          element.appendChild(docLink);\n",
              "        }\n",
              "      </script>\n",
              "    </div>\n",
              "  </div>\n",
              "  "
            ]
          },
          "metadata": {},
          "execution_count": 5
        }
      ]
    },
    {
      "cell_type": "code",
      "source": [
        "#spliting train, test and cross validation data\n",
        "\n",
        "\n",
        "from sklearn.model_selection import train_test_split\n",
        "x_train, x_test, y_train, y_test = train_test_split(x, y, test_size=0.3, stratify=y)\n",
        "x_tr, x_cv, y_tr, y_cv = train_test_split(x_train, y_train, test_size=0.3, stratify=y_train)"
      ],
      "metadata": {
        "id": "LZzn3VDDVRs9"
      },
      "execution_count": 37,
      "outputs": []
    },
    {
      "cell_type": "code",
      "source": [
        "###  length of train ,cv,cross validation data\n",
        "print(len(x_tr))\n",
        "print(len(x_test))\n",
        "print(len(x_cv))"
      ],
      "metadata": {
        "colab": {
          "base_uri": "https://localhost:8080/"
        },
        "id": "swH61mZt7yKu",
        "outputId": "a099c2c6-c068-436a-f4ad-1b6471443c3f"
      },
      "execution_count": 12,
      "outputs": [
        {
          "output_type": "stream",
          "name": "stdout",
          "text": [
            "7350\n",
            "4500\n",
            "3150\n"
          ]
        }
      ]
    },
    {
      "cell_type": "code",
      "source": [],
      "metadata": {
        "id": "FsrWStR4UXSZ"
      },
      "execution_count": null,
      "outputs": []
    },
    {
      "cell_type": "markdown",
      "metadata": {
        "id": "EnZwVNULb3dO"
      },
      "source": [
        "<h2>1.3 Make Data Model Ready: encoding essay, and project_title</h2>"
      ]
    },
    {
      "cell_type": "code",
      "execution_count": 13,
      "metadata": {
        "colab": {
          "base_uri": "https://localhost:8080/"
        },
        "id": "H0_CiFCuLItB",
        "outputId": "04f55213-7581-44f5-fba7-1fe9713c87f6"
      },
      "outputs": [
        {
          "output_type": "stream",
          "name": "stdout",
          "text": [
            "(7350, 5000)\n",
            "(3150, 5000)\n",
            "(4500, 5000)\n"
          ]
        },
        {
          "output_type": "stream",
          "name": "stderr",
          "text": [
            "/usr/local/lib/python3.8/dist-packages/sklearn/utils/deprecation.py:87: FutureWarning: Function get_feature_names is deprecated; get_feature_names is deprecated in 1.0 and will be removed in 1.2. Please use get_feature_names_out instead.\n",
            "  warnings.warn(msg, category=FutureWarning)\n"
          ]
        }
      ],
      "source": [
        "from sklearn.feature_extraction.text import CountVectorizer\n",
        "from sklearn.feature_extraction.text import TfidfVectorizer\n",
        "# Applying  Bag of Words (BOW) vectorization on 'Preprocessed_Essay' \n",
        "\n",
        "vectorizer=CountVectorizer(ngram_range=(1,4),min_df=10,max_features=5000)\n",
        "\n",
        "vectorizer.fit(x_tr[\"essay\"].values)\n",
        "\n",
        "x_train_bow=vectorizer.transform(x_tr[\"essay\"].values)\n",
        "\n",
        "x_cv_bow=vectorizer.transform(x_cv[\"essay\"].values)\n",
        "\n",
        "x_test_bow=vectorizer.transform(x_test[\"essay\"].values)\n",
        "feature_names = vectorizer.get_feature_names()\n",
        "len(feature_names)\n",
        "\n",
        "\n",
        "print(x_train_bow.shape)\n",
        "print(x_cv_bow.shape)\n",
        "print(x_test_bow.shape)\n"
      ]
    },
    {
      "cell_type": "markdown",
      "metadata": {
        "id": "bGy86kgHb3dX"
      },
      "source": [
        "<h2>1.4 Make Data Model Ready: encoding numerical, categorical features</h2>"
      ]
    },
    {
      "cell_type": "code",
      "execution_count": 14,
      "metadata": {
        "id": "EfXkofX1b3da",
        "colab": {
          "base_uri": "https://localhost:8080/"
        },
        "outputId": "78283de5-dcf1-4a81-a43a-b5613d17afa6"
      },
      "outputs": [
        {
          "output_type": "stream",
          "name": "stdout",
          "text": [
            "After vectorizations\n",
            "(7350, 49)\n",
            "(3150, 49)\n",
            "(4500, 49)\n"
          ]
        }
      ],
      "source": [
        "# Apply One-Hot Encoding on school state feature \n",
        "\n",
        "vectorizer.fit(x_tr[\"school_state\"].values)\n",
        "\n",
        "x_train_state=vectorizer.transform(x_tr[\"school_state\"].values)\n",
        "x_cv_state=vectorizer.transform(x_cv[\"school_state\"].values)\n",
        "x_test_state=vectorizer.transform(x_test[\"school_state\"].values)\n",
        "\n",
        "feature_names.extend(vectorizer.get_feature_names())\n",
        "\n",
        "print(\"After vectorizations\")\n",
        "print(x_train_state.shape)\n",
        "print(x_cv_state.shape)\n",
        "print(x_test_state.shape)\n",
        "\n",
        "\n",
        "\n",
        "\n"
      ]
    },
    {
      "cell_type": "code",
      "source": [
        "\n",
        "#aplying onehot encoding for teacher prefix\n",
        "\n",
        "vectorizer=CountVectorizer()\n",
        "vectorizer.fit(x_tr[\"teacher_prefix\"].values)\n",
        "\n",
        "x_train_tchr=vectorizer.transform(x_tr[\"teacher_prefix\"].values)\n",
        "\n",
        "\n",
        "x_cv_tchr=vectorizer.transform(x_cv[\"teacher_prefix\"].values)\n",
        "\n",
        "\n",
        "x_test_tchr=vectorizer.transform(x_test[\"teacher_prefix\"].values)\n",
        "\n",
        "feature_names.extend(vectorizer.get_feature_names())\n",
        "\n",
        "print(\"after one hot encoding\")\n",
        "\n",
        "print(x_train_tchr.shape)\n",
        "\n",
        "print(x_cv_tchr.shape)\n",
        "\n",
        "print(x_test_tchr.shape)\n",
        "\n",
        "len(feature_names)"
      ],
      "metadata": {
        "colab": {
          "base_uri": "https://localhost:8080/"
        },
        "id": "5FwpQEtSNY4T",
        "outputId": "7279315e-0531-4249-c6ea-5417536a0872"
      },
      "execution_count": 15,
      "outputs": [
        {
          "output_type": "stream",
          "name": "stdout",
          "text": [
            "after one hot encoding\n",
            "(7350, 5)\n",
            "(3150, 5)\n",
            "(4500, 5)\n"
          ]
        },
        {
          "output_type": "execute_result",
          "data": {
            "text/plain": [
              "5054"
            ]
          },
          "metadata": {},
          "execution_count": 15
        }
      ]
    },
    {
      "cell_type": "code",
      "source": [
        "#  encoding for project grade category  through bag of words\n",
        "\n",
        "vectorizer=CountVectorizer()\n",
        "vectorizer.fit(x_tr[\"project_grade_category\"].values)\n",
        "\n",
        "x_train_project=vectorizer.transform(x_tr[\"project_grade_category\"].values)\n",
        "\n",
        "\n",
        "x_cv_project=vectorizer.transform(x_cv[\"project_grade_category\"].values)\n",
        "\n",
        "\n",
        "x_test_project=vectorizer.transform(x_test[\"project_grade_category\"].values)\n",
        "feature_names.extend(vectorizer.get_feature_names())\n",
        "\n",
        "print(\"after one hot encoding\")\n",
        "\n",
        "print(x_train_project.shape)\n",
        "print(x_cv_project.shape)\n",
        "print(x_test_project.shape)\n"
      ],
      "metadata": {
        "colab": {
          "base_uri": "https://localhost:8080/"
        },
        "id": "nqiJnnHlNpFI",
        "outputId": "07c2d7b6-fef1-44f6-d770-ab45bce42473"
      },
      "execution_count": 17,
      "outputs": [
        {
          "output_type": "stream",
          "name": "stdout",
          "text": [
            "after one hot encoding\n",
            "(7350, 4)\n",
            "(3150, 4)\n",
            "(4500, 4)\n"
          ]
        }
      ]
    },
    {
      "cell_type": "code",
      "source": [
        "#onehot encoding for clean_categories\n",
        "\n",
        "vectorizer=CountVectorizer()\n",
        "vectorizer.fit(x_tr[\"clean_categories\"].values)\n",
        "\n",
        "x_train_clean_cat=vectorizer.transform(x_tr[\"clean_categories\"].values)\n",
        "\n",
        "\n",
        "x_cv_clean_cat=vectorizer.transform(x_cv[\"clean_categories\"].values)\n",
        "\n",
        "\n",
        "x_test_clean_cat=vectorizer.transform(x_test[\"clean_categories\"].values)\n",
        "\n",
        "feature_names.extend(vectorizer.get_feature_names())\n",
        "\n",
        "print(\"after one hot encoding\")\n",
        "\n",
        "print(x_train_clean_cat.shape)\n",
        "print(x_cv_clean_cat.shape)\n",
        "print(x_test_clean_cat.shape)"
      ],
      "metadata": {
        "colab": {
          "base_uri": "https://localhost:8080/"
        },
        "id": "puRsjSW6PX2R",
        "outputId": "57020ec5-1e5f-4c04-de17-c6d4b19b7b10"
      },
      "execution_count": 18,
      "outputs": [
        {
          "output_type": "stream",
          "name": "stdout",
          "text": [
            "after one hot encoding\n",
            "(7350, 7)\n",
            "(3150, 7)\n",
            "(4500, 7)\n"
          ]
        }
      ]
    },
    {
      "cell_type": "code",
      "source": [
        "vectorizer=CountVectorizer()\n",
        "vectorizer.fit(x_tr[\"clean_subcategories\"].values)\n",
        "\n",
        "x_train_clean_subcat=vectorizer.transform(x_tr[\"clean_subcategories\"].values)\n",
        "\n",
        "\n",
        "x_cv_clean_subcat=vectorizer.transform(x_cv[\"clean_subcategories\"].values)\n",
        "\n",
        "\n",
        "x_test_clean_subcat=vectorizer.transform(x_test[\"clean_subcategories\"].values)\n",
        "feature_names.extend(vectorizer.get_feature_names())\n",
        "\n",
        "print(\"after one hot encoding\")\n",
        "\n",
        "print(x_train_clean_subcat.shape)\n",
        "print(x_cv_clean_subcat.shape)\n",
        "print(x_test_clean_subcat.shape)"
      ],
      "metadata": {
        "colab": {
          "base_uri": "https://localhost:8080/"
        },
        "id": "ZsKsdgVnP_go",
        "outputId": "10035542-4853-4039-9927-2cbab3cee10a"
      },
      "execution_count": 19,
      "outputs": [
        {
          "output_type": "stream",
          "name": "stdout",
          "text": [
            "after one hot encoding\n",
            "(7350, 28)\n",
            "(3150, 28)\n",
            "(4500, 28)\n"
          ]
        }
      ]
    },
    {
      "cell_type": "code",
      "source": [
        "from sklearn.preprocessing import Normalizer\n",
        "\n",
        "norm=Normalizer()\n",
        "\n",
        "#norm.fit(x_tr[\"price\"].values.reshape(-1,1))\n",
        "\n",
        "x_tr_price=norm.fit_transform(x_tr[\"price\"].values.reshape(-1,1))\n",
        "\n",
        "x_cv_price=norm.fit_transform(x_cv[\"price\"].values.reshape(-1,1))\n",
        "\n",
        "x_test_price=norm.fit_transform(x_test[\"price\"].values.reshape(-1,1))\n",
        "\n",
        "feature_names.append(\"price\")\n",
        "print(\"size after one hot encoding\")\n",
        "\n",
        "print(x_tr_price.shape)\n",
        "print(x_cv_price.shape)\n",
        "print(x_test_price.shape)\n"
      ],
      "metadata": {
        "colab": {
          "base_uri": "https://localhost:8080/"
        },
        "id": "KJ7N95_sPGew",
        "outputId": "83fefc8f-e4d4-45c0-ba8f-1198b3a0ccd9"
      },
      "execution_count": 20,
      "outputs": [
        {
          "output_type": "stream",
          "name": "stdout",
          "text": [
            "size after one hot encoding\n",
            "(7350, 1)\n",
            "(3150, 1)\n",
            "(4500, 1)\n"
          ]
        }
      ]
    },
    {
      "cell_type": "markdown",
      "metadata": {
        "id": "yYHPYadYb3dh"
      },
      "source": [
        "<h2>1.5 Appling NB on different kind of featurization as mentioned in the instructions</h2>\n",
        "\n",
        "<br>Apply NB on different kind of featurization as mentioned in the instructions\n",
        "<br> For Every model that you work on make sure you do the step 2 and step 3 of instrucations"
      ]
    },
    {
      "cell_type": "code",
      "source": [],
      "metadata": {
        "id": "1-Gy8KVEWIl6"
      },
      "execution_count": null,
      "outputs": []
    },
    {
      "cell_type": "markdown",
      "metadata": {
        "id": "DNwqilFxb3di"
      },
      "source": [
        "#### Set 1"
      ]
    },
    {
      "cell_type": "code",
      "source": [
        "from scipy.sparse import hstack\n",
        "\n",
        "x_tr=hstack((x_train_bow,x_train_state,x_train_tchr,x_train_project,x_train_clean_cat,x_train_clean_subcat,x_tr_price)).tocsr()\n",
        "\n",
        "x_cv=hstack((x_cv_bow,x_cv_state,x_cv_tchr,x_cv_project,x_cv_clean_cat,x_cv_clean_subcat,x_cv_price)).tocsr()\n",
        "\n",
        "x_test=hstack((x_test_bow,x_test_state,x_test_tchr,x_test_project,x_test_clean_cat,x_test_clean_subcat,x_test_price)).tocsr()\n",
        "\n",
        "print(\"Final Data matrix\")\n",
        "print(x_tr.shape,y_tr.shape)\n",
        "print(x_cv.shape,y_cv.shape)\n",
        "print(x_test.shape)\n",
        "print(\"=\"*100)"
      ],
      "metadata": {
        "colab": {
          "base_uri": "https://localhost:8080/"
        },
        "id": "VhGyJ5xJWJHS",
        "outputId": "e757d683-68e4-4b60-8ac5-33b7403c89c2"
      },
      "execution_count": 22,
      "outputs": [
        {
          "output_type": "stream",
          "name": "stdout",
          "text": [
            "Final Data matrix\n",
            "(7350, 5094) (7350,)\n",
            "(3150, 5094) (3150,)\n",
            "(4500, 5094)\n",
            "====================================================================================================\n"
          ]
        }
      ]
    },
    {
      "cell_type": "code",
      "execution_count": 24,
      "metadata": {
        "id": "Kl_da4x8LItE",
        "colab": {
          "base_uri": "https://localhost:8080/",
          "height": 330
        },
        "outputId": "4d48e7a5-83c1-4347-b7b6-f2721df9e33c"
      },
      "outputs": [
        {
          "output_type": "stream",
          "name": "stderr",
          "text": [
            "/usr/local/lib/python3.8/dist-packages/sklearn/naive_bayes.py:555: UserWarning: alpha too small will result in numeric errors, setting alpha = 1.0e-10\n",
            "  warnings.warn(\n"
          ]
        },
        {
          "output_type": "display_data",
          "data": {
            "text/plain": [
              "<Figure size 432x288 with 1 Axes>"
            ],
            "image/png": "[encoded data removed]"
          },
          "metadata": {
            "needs_background": "light"
          }
        }
      ],
      "source": [
        "\n",
        "import matplotlib.pyplot as plt\n",
        "from sklearn.naive_bayes import MultinomialNB\n",
        "import numpy as np\n",
        "from sklearn.metrics import roc_auc_score\n",
        "\n",
        "\n",
        "\n",
        "# Perform Hyperparameter Tuning.\n",
        "\n",
        "train_auc = []\n",
        "cv_auc = []\n",
        "K = np.arange(0,2,0.1)\n",
        "\n",
        "for i in K:\n",
        "  clf=MultinomialNB(alpha=i)\n",
        "  clf.fit(x_tr,y_tr)\n",
        "\n",
        "  y_tr_predicted=clf.predict_proba(x_tr)[:,1]\n",
        "  y_cv_predicted=clf.predict_proba(x_cv)[:,1]\n",
        "  \n",
        "\n",
        "  train_auc.append(roc_auc_score(y_tr,y_tr_predicted))\n",
        "  cv_auc.append(roc_auc_score(y_cv, y_cv_predicted))\n",
        "\n",
        "plt.plot(K, train_auc, label='Train AUC')\n",
        "plt.plot(K, cv_auc, label='CV AUC')\n",
        "\n",
        "plt.scatter(K, train_auc, label='Train AUC points')\n",
        "plt.scatter(K, cv_auc, label='CV AUC points')\n",
        "\n",
        "plt.legend()\n",
        "plt.xlabel(\"aplha\")\n",
        "plt.ylabel(\"AUC\")\n",
        "plt.title(\"ERROR PLOTS\")\n",
        "plt.grid()\n",
        "plt.show()\n",
        "\n",
        "\n",
        "# Plot the training and the CV AUC scores, for different values of 'alpha', using a 2D line plot\n",
        "\n"
      ]
    },
    {
      "cell_type": "code",
      "source": [
        "#combiningg train and cv data\n",
        "from scipy.sparse import vstack\n",
        "x_tr_cv=vstack((x_tr,x_cv)).tocsr()"
      ],
      "metadata": {
        "id": "AOkMNi0OQMF-"
      },
      "execution_count": 26,
      "outputs": []
    },
    {
      "cell_type": "code",
      "execution_count": 27,
      "metadata": {
        "id": "Vdkzb4sTLItE",
        "colab": {
          "base_uri": "https://localhost:8080/",
          "height": 330
        },
        "outputId": "d33e987d-0603-4fbe-8aa6-913de6774a71"
      },
      "outputs": [
        {
          "output_type": "stream",
          "name": "stdout",
          "text": [
            "0.8364263436184596\n",
            "0.5043868049487692\n"
          ]
        },
        {
          "output_type": "display_data",
          "data": {
            "text/plain": [
              "<Figure size 432x288 with 1 Axes>"
            ],
            "image/png": "[encoded data removed]"
          },
          "metadata": {
            "needs_background": "light"
          }
        }
      ],
      "source": [
        "from sklearn.metrics import roc_curve, auc\n",
        "# Obtain the optimal value for 'alpha' and using the obtained optimal 'alpha' value, fit a multinomial naive bayes model, on the train data,\n",
        "best_alpha=2\n",
        "# Note: If you have split the datase into 3 parts (ie., train, cv and test sets) in the beginning, then the training datafor this final model would be (train set + cv set)\n",
        "clf=MultinomialNB(alpha=best_alpha)\n",
        "\n",
        "clf.fit(x_tr_cv,y_train)\n",
        "\n",
        "yy=clf.predict_proba(x_tr_cv)[:,1]\n",
        "y_tes=clf.predict_proba(x_test)[:,1]\n",
        "\n",
        "train_fpr, train_tpr, tr_thresholds = roc_curve(y_train, yy)\n",
        "test_fpr, test_tpr, te_thresholds = roc_curve(y_test, y_tes)\n",
        "print(auc(train_fpr,train_tpr))\n",
        "auc_score_bow=auc(test_fpr, test_tpr)\n",
        "\n",
        "print(auc_score_bow)\n",
        "plt.plot(train_fpr, train_tpr, label=\"train AUC\" )\n",
        "plt.plot(test_fpr, test_tpr, label=\"test AUC\")\n",
        "\n",
        "plt.legend()\n",
        "plt.xlabel(\"alpha\")\n",
        "plt.ylabel(\"AUC\")\n",
        "plt.title(\"ERROR PLOTS\")\n",
        "plt.grid()\n",
        "plt.show()\n",
        "\n",
        "# Make class label and probability predictions on the train and test data.\n"
      ]
    },
    {
      "cell_type": "code",
      "execution_count": 28,
      "metadata": {
        "id": "W62bOXIBLItF"
      },
      "outputs": [],
      "source": [
        "# Plot the ROC-AUC curves using the probability predictions made on train and test data.\n",
        "def find_best_threshold(threshould, fpr, tpr):\n",
        "    t = threshould[np.argmax(tpr*(1-fpr))]\n",
        "    # (tpr*(1-fpr)) will be maximum if your fpr is very low and tpr is very high\n",
        "    print(\"the maximum value of tpr*(1-fpr)\", max(tpr*(1-fpr)), \"for threshold\", np.round(t,3))\n",
        "    return t"
      ]
    },
    {
      "cell_type": "code",
      "execution_count": 29,
      "metadata": {
        "id": "HwDAOeTgLItF"
      },
      "outputs": [],
      "source": [
        "# Pick the best threshold among the probability estimates, such that it has to yield maximum value for TPR*(1-FPR) the basis of the best threshod probability estimate.\n",
        "\n",
        "# Plot the confusion matrices(each for train and test data) afer encoding the predicted class labels, on\n",
        "\n",
        "def predict_with_best(threshold,proba):\n",
        "  predictions = []\n",
        "  for i in proba:\n",
        "    if i>threshold:\n",
        "      predictions.append(1)\n",
        "    else:\n",
        "      predictions.append(0)\n",
        "\n",
        "  return(predictions)    \n",
        "\n"
      ]
    },
    {
      "cell_type": "code",
      "source": [
        "print(\"=\"*100)\n",
        "from sklearn.metrics import confusion_matrix\n",
        "\n",
        "best_t = find_best_threshold(tr_thresholds, train_fpr, train_tpr)\n",
        "print(\"Train confusion matrix\")\n",
        "print(confusion_matrix(y_train,predict_with_best(best_t,yy)))\n",
        "print(\"Test confusion matrix\")\n",
        "print(confusion_matrix(y_test,predict_with_best(best_t,y_tes)))\n",
        "\n",
        "print(best_t)"
      ],
      "metadata": {
        "id": "nPo9MCcHcRKi",
        "colab": {
          "base_uri": "https://localhost:8080/"
        },
        "outputId": "b7943542-50b0-497a-c848-f773a9decfc5"
      },
      "execution_count": 30,
      "outputs": [
        {
          "output_type": "stream",
          "name": "stdout",
          "text": [
            "====================================================================================================\n",
            "the maximum value of tpr*(1-fpr) 0.57848481054857 for threshold 0.887\n",
            "Train confusion matrix\n",
            "[[1199  302]\n",
            " [2483 6516]]\n",
            "Test confusion matrix\n",
            "[[ 226  417]\n",
            " [1409 2448]]\n",
            "0.8874475666507784\n"
          ]
        }
      ]
    },
    {
      "cell_type": "code",
      "source": [
        "from sklearn.metrics import accuracy_score\n",
        "\n",
        "\n",
        "\n",
        "print(accuracy_score(y_test,predict_with_best(best_t,y_tes))*100)"
      ],
      "metadata": {
        "colab": {
          "base_uri": "https://localhost:8080/"
        },
        "id": "BpoV9K12pVci",
        "outputId": "16848a35-a7db-44ae-9f99-fc5339a7331c"
      },
      "execution_count": 31,
      "outputs": [
        {
          "output_type": "stream",
          "name": "stdout",
          "text": [
            "59.42222222222222\n"
          ]
        }
      ]
    },
    {
      "cell_type": "code",
      "source": [
        "#set--2 esssay encoded in tf-idf"
      ],
      "metadata": {
        "id": "6MiaXvi4pVe6"
      },
      "execution_count": null,
      "outputs": []
    },
    {
      "cell_type": "markdown",
      "metadata": {
        "id": "KzFci-3pLItF"
      },
      "source": [
        "#### Set 2"
      ]
    },
    {
      "cell_type": "code",
      "source": [
        "# Apply TF-IDF vectorization on 'Preprocessed_Essay'\n",
        "zer=TfidfVectorizer(max_features=5000)\n",
        "\n",
        "zer.fit(x_tr[\"essay\"].values)\n",
        "x_train_tfidf=zer.transform(x_tr[\"essay\"].values)\n",
        "\n",
        "x_cv_tfidf=zer.transform(x_cv[\"essay\"].values)\n",
        "\n",
        "x_test_tfidf=zer.transform(x_test[\"essay\"].values)\n",
        "\n",
        "print(x_train_tfidf.shape)\n",
        "print(x_cv_tfidf.shape)\n",
        "print(x_test_tfidf.shape)"
      ],
      "metadata": {
        "colab": {
          "base_uri": "https://localhost:8080/"
        },
        "id": "LASl5CbBsFMJ",
        "outputId": "de32f533-4f8e-42a7-9d9e-77927d93c5d1"
      },
      "execution_count": 38,
      "outputs": [
        {
          "output_type": "stream",
          "name": "stdout",
          "text": [
            "(7350, 5000)\n",
            "(3150, 5000)\n",
            "(4500, 5000)\n"
          ]
        }
      ]
    },
    {
      "cell_type": "code",
      "source": [],
      "metadata": {
        "id": "7Uvv9SnluMH9"
      },
      "execution_count": null,
      "outputs": []
    },
    {
      "cell_type": "code",
      "source": [
        "###combining  encodeed features using hstack \n",
        "x_tr_tf=hstack((x_train_tfidf,x_train_state,x_train_tchr,x_train_project,x_train_clean_cat,x_train_clean_subcat,x_tr_price)).tocsr()\n",
        "\n",
        "x_cv_tf=hstack((x_cv_tfidf,x_cv_state,x_cv_tchr,x_cv_project,x_cv_clean_cat,x_cv_clean_subcat,x_cv_price)).tocsr()\n",
        "\n",
        "x_test_tf=hstack((x_test_tfidf,x_test_state,x_test_tchr,x_test_project,x_test_clean_cat,x_test_clean_subcat,x_test_price)).tocsr()"
      ],
      "metadata": {
        "id": "-WI-Ccf9RYen"
      },
      "execution_count": 39,
      "outputs": []
    },
    {
      "cell_type": "code",
      "execution_count": 41,
      "metadata": {
        "id": "Bt8qFJ83LItG",
        "colab": {
          "base_uri": "https://localhost:8080/",
          "height": 330
        },
        "outputId": "8d804344-0c26-4438-df44-f2c3d030c48e"
      },
      "outputs": [
        {
          "output_type": "stream",
          "name": "stderr",
          "text": [
            "/usr/local/lib/python3.8/dist-packages/sklearn/naive_bayes.py:555: UserWarning: alpha too small will result in numeric errors, setting alpha = 1.0e-10\n",
            "  warnings.warn(\n"
          ]
        },
        {
          "output_type": "display_data",
          "data": {
            "text/plain": [
              "<Figure size 432x288 with 1 Axes>"
            ],
            "image/png": "[encoded data removed]"
          },
          "metadata": {
            "needs_background": "light"
          }
        }
      ],
      "source": [
        "# Perform Hyperparameter Tuning.\n",
        "\n",
        "alpharange=np.arange(0,12,1)\n",
        "\n",
        "train_au=[]\n",
        "cv_au=[]\n",
        "\n",
        "for i in alpharange:\n",
        "  clf=MultinomialNB(alpha=i)\n",
        "  clf.fit(x_tr_tf,y_tr)\n",
        "\n",
        "  y_tr_predicted=clf.predict_proba(x_tr_tf)[:,1]\n",
        "  y_cv_predicted=clf.predict_proba(x_cv_tf)[:,1]\n",
        "  \n",
        "\n",
        "  train_au.append(roc_auc_score(y_tr,y_tr_predicted))\n",
        "  cv_au.append(roc_auc_score(y_cv, y_cv_predicted))\n",
        "\n",
        "plt.plot(alpharange, train_au, label='Train AUC') \n",
        "plt.plot(alpharange, cv_au, label='CV AUC')\n",
        "\n",
        "plt.scatter(alpharange, train_au, label='Train AUC points')\n",
        "plt.scatter(alpharange, cv_au, label='CV AUC points')\n",
        "\n",
        "plt.legend()\n",
        "plt.xlabel(\"aplha\")\n",
        "plt.ylabel(\"AUC\")\n",
        "plt.title(\"ERROR PLOTS\")\n",
        "plt.grid()\n",
        "plt.show()\n",
        "\n",
        "\n",
        "\n",
        "# Plot the training and the CV AUC scores, for different values of 'alpha', using a 2D line plot\n",
        "\n"
      ]
    },
    {
      "cell_type": "code",
      "source": [
        "X=vstack((x_tr_tf,x_cv_tf)).tocsr()"
      ],
      "metadata": {
        "id": "Mo2wcoeZUOBg"
      },
      "execution_count": 43,
      "outputs": []
    },
    {
      "cell_type": "code",
      "execution_count": 44,
      "metadata": {
        "id": "Yv-WgIH2LItG",
        "colab": {
          "base_uri": "https://localhost:8080/",
          "height": 330
        },
        "outputId": "894b64ce-6aa9-4b5a-ecff-1b02335be60e"
      },
      "outputs": [
        {
          "output_type": "stream",
          "name": "stdout",
          "text": [
            "0.5335907853852146\n",
            "0.4828505542829563\n"
          ]
        },
        {
          "output_type": "display_data",
          "data": {
            "text/plain": [
              "<Figure size 432x288 with 1 Axes>"
            ],
            "image/png": "[encoded data removed]"
          },
          "metadata": {
            "needs_background": "light"
          }
        }
      ],
      "source": [
        "\n",
        "# Obtain the optimal value for 'alpha' and using the obtained optimal 'alpha' value, fit a multinomial naive bayes model, on the train data,\n",
        "\n",
        "best_alpha=10\n",
        "\n",
        "mul=MultinomialNB(alpha=best_alpha)\n",
        "\n",
        "mul.fit(X,y_train)\n",
        "\n",
        "yy=mul.predict_proba(X)[:,1]\n",
        "y_tes=mul.predict_proba(x_test_tf)[:,1]\n",
        "\n",
        "train_fpr, train_tpr, tr_thresholds = roc_curve(y_train, yy)\n",
        "test_fpr, test_tpr, te_thresholds = roc_curve(y_test, y_tes)\n",
        "print(auc(train_fpr,train_tpr))\n",
        "auc_score_tf_idf=auc(test_fpr, test_tpr)\n",
        "print(auc_score_tf_idf)\n",
        "\n",
        "plt.plot(train_fpr, train_tpr, label=\"train AUC\" )\n",
        "plt.plot(test_fpr, test_tpr, label=\"test AUC\")\n",
        "\n",
        "plt.legend()\n",
        "plt.xlabel(\"alpha\")\n",
        "plt.ylabel(\"AUC\")\n",
        "plt.title(\"ERROR PLOTS\")\n",
        "plt.grid()\n",
        "plt.show()\n",
        "\n",
        "# Note: If you have split the datase into 3 parts (ie., train, cv and test sets) in the beginning, then the training datafor this final model would be (train set + cv set)\n",
        "# Make class label and probability predictions on the train and test data.\n"
      ]
    },
    {
      "cell_type": "code",
      "execution_count": 47,
      "metadata": {
        "id": "aSjtw6QULItH",
        "colab": {
          "base_uri": "https://localhost:8080/"
        },
        "outputId": "d76eff66-dd44-44e4-9dff-cd530632898c"
      },
      "outputs": [
        {
          "output_type": "stream",
          "name": "stdout",
          "text": [
            "the maximum value of tpr*(1-fpr) 0.27804421825239445 for threshold 1.0\n",
            "Train confusion matrix\n",
            "[[ 738  763]\n",
            " [3911 5088]]\n",
            "Test confusion matrix\n",
            "[[ 264  379]\n",
            " [1677 2180]]\n",
            "the accuracy score is  54.31111111111111 %\n"
          ]
        }
      ],
      "source": [
        "# Plot the ROC-AUC curves using the probability predictions made on train and test data.\n",
        "\n",
        "from sklearn.metrics import accuracy_score\n",
        "best_t = find_best_threshold(tr_thresholds, train_fpr, train_tpr)\n",
        "print(\"Train confusion matrix\")\n",
        "print(confusion_matrix(y_train,predict_with_best(best_t,yy)))\n",
        "print(\"Test confusion matrix\")\n",
        "print(confusion_matrix(y_test,predict_with_best(best_t,y_tes)))\n",
        "\n",
        "\n",
        "\n",
        "print(\"the accuracy score is \",accuracy_score(y_test,predict_with_best(best_t,y_tes))*100,\"%\")\n"
      ]
    },
    {
      "cell_type": "code",
      "execution_count": 48,
      "metadata": {
        "id": "dUgrWf6lLItI",
        "colab": {
          "base_uri": "https://localhost:8080/"
        },
        "outputId": "5f64435a-5c4f-43c2-e4ff-8493d8c20cb3"
      },
      "outputs": [
        {
          "output_type": "execute_result",
          "data": {
            "text/plain": [
              "array([[-8.75616147, -8.74548591, -8.58399313, ..., -7.55491664,\n",
              "        -6.78578355, -4.2245936 ],\n",
              "       [-9.42330658, -9.29665361, -8.67199514, ..., -7.2209891 ,\n",
              "        -5.92170611, -3.20729659]])"
            ]
          },
          "metadata": {},
          "execution_count": 48
        }
      ],
      "source": [
        "# Either from set 1 (or) set 2, print the names of the top 20 features associated with the positive and negative classes each. (You have to print the names of the features, but not the indexes)\n",
        "\n",
        "\n",
        "feature_log_probabilities=clf.feature_log_prob_\n",
        "feature_log_probabilities\n"
      ]
    },
    {
      "cell_type": "code",
      "source": [
        "top_20_positive = np.argsort(feature_log_probabilities[1, :])[:20]\n",
        "print(\"Top 20 positive features:\", [feature_names[i] for i in top_20_positive])\n",
        "\n",
        "# Print the names of the top 20 features for the negative class\n",
        "top_20_negative = np.argsort(feature_log_probabilities[0, :])[:20]\n",
        "print(\"Top 20 negative features:\", [feature_names[i] for i in top_20_negative])"
      ],
      "metadata": {
        "colab": {
          "base_uri": "https://localhost:8080/"
        },
        "id": "0ijy5sGr-APz",
        "outputId": "0117a76e-733d-4d19-f3e3-7a98ff09ff9d"
      },
      "execution_count": 50,
      "outputs": [
        {
          "output_type": "stream",
          "name": "stdout",
          "text": [
            "Top 20 positive features: ['towards', 'we also', 'students deserve', 'classroom our', 'eager learn', 'choose sit', 'around', 'my students hard', 'dry', 'latest', 'always eager', 'graphs', 'we always', 'budget', 'dr', 'struggling students', 'class this', 'my students not', '2017', 'students every']\n",
            "Top 20 negative features: ['nd', 'dr', 'stamina', 'come many', 'spot', 'regularly', 'spirit', 'reinforce', 'standard', 'intelligent', 'open', 'energetic', 'conversations', 'instruments', 'they not', 'ends', 'fits', 'first year', 'it allow', 'engaging']\n"
          ]
        }
      ]
    },
    {
      "cell_type": "code",
      "source": [
        "from prettytable import PrettyTable\n",
        "x = PrettyTable()"
      ],
      "metadata": {
        "id": "9eX70A8G4FHT"
      },
      "execution_count": 51,
      "outputs": []
    },
    {
      "cell_type": "code",
      "source": [
        "x.add_column(\"vectorizer\",[\"bag of words\",\"tf-idf\"])\n",
        "x.add_column(\"method\",[\"brute\",\"brute\"])\n",
        "x.add_column(\"hyperparameter\",[\"2\",\"2\"])\n",
        "x.add_column(\"auc_score\",[auc_score_bow,auc_score_tf_idf])"
      ],
      "metadata": {
        "id": "4xwHk3LkIiYP"
      },
      "execution_count": 52,
      "outputs": []
    },
    {
      "cell_type": "code",
      "source": [
        "print(x)"
      ],
      "metadata": {
        "colab": {
          "base_uri": "https://localhost:8080/"
        },
        "id": "uH40hs2KJvp8",
        "outputId": "9d703fdf-3e68-4216-9bb5-3c9634c5c86a"
      },
      "execution_count": 53,
      "outputs": [
        {
          "output_type": "stream",
          "name": "stdout",
          "text": [
            "+--------------+--------+----------------+--------------------+\n",
            "|  vectorizer  | method | hyperparameter |     auc_score      |\n",
            "+--------------+--------+----------------+--------------------+\n",
            "| bag of words | brute  |       2        | 0.5043868049487692 |\n",
            "|    tf-idf    | brute  |       2        | 0.4828505542829563 |\n",
            "+--------------+--------+----------------+--------------------+\n"
          ]
        }
      ]
    },
    {
      "cell_type": "code",
      "source": [],
      "metadata": {
        "id": "jMaFpNL-KJwg"
      },
      "execution_count": null,
      "outputs": []
    }
  ],
  "metadata": {
    "colab": {
      "provenance": []
    },
    "kernelspec": {
      "display_name": "Python 3",
      "language": "python",
      "name": "python3"
    },
    "language_info": {
      "codemirror_mode": {
        "name": "ipython",
        "version": 3
      },
      "file_extension": ".py",
      "mimetype": "text/x-python",
      "name": "python",
      "nbconvert_exporter": "python",
      "pygments_lexer": "ipython3",
      "version": "3.6.3"
    }
  },
  "nbformat": 4,
  "nbformat_minor": 0
}